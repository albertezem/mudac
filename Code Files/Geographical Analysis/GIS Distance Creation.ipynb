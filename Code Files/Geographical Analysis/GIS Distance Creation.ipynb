{
 "cells": [
  {
   "cell_type": "code",
   "execution_count": 20,
   "id": "ecdb474e",
   "metadata": {},
   "outputs": [],
   "source": [
    "import pandas as pd\n",
    "import geopandas as gpd\n",
    "from geopy.distance import geodesic\n",
    "\n",
    "# Shapefile\n",
    "gdf = gpd.read_file(\"tl_2024_27_bg.zip\").to_crs(epsg=4326)\n",
    "\n",
    "geoid_coords = {\n",
    "    row['GEOID']: (row.geometry.centroid.y, row.geometry.centroid.x)\n",
    "    for _, row in gdf.iterrows()\n",
    "}\n",
    "\n",
    "df = pd.read_csv(\"new_novice.csv\", dtype=str)\n",
    "\n",
    "def get_distance(row):\n",
    "    geoid_a = row.get('Little Mailing Address Census Block Group')\n",
    "    geoid_b = row.get('Big Home Census Block Group')\n",
    "    \n",
    "    if pd.isna(geoid_a) or pd.isna(geoid_b):\n",
    "        return float('nan')  # Explicit NaN\n",
    "    \n",
    "    geoid_a = geoid_a.strip()\n",
    "    geoid_b = geoid_b.strip()\n",
    "    \n",
    "    point_a = geoid_coords.get(geoid_a)\n",
    "    point_b = geoid_coords.get(geoid_b)\n",
    "    \n",
    "    return geodesic(point_a, point_b).miles if point_a and point_b else float('nan')\n",
    "\n",
    "df['Distance'] = df.apply(get_distance, axis=1)\n",
    "df.to_csv(\"results.csv\", index=False)"
   ]
  },
  {
   "cell_type": "code",
   "execution_count": 11,
   "id": "7db321cf",
   "metadata": {},
   "outputs": [
    {
     "name": "stdout",
     "output_type": "stream",
     "text": [
      "Collecting geopandasNote: you may need to restart the kernel to use updated packages.\n",
      "\n",
      "  Downloading geopandas-1.0.1-py3-none-any.whl (323 kB)\n",
      "     -------------------------------------- 323.6/323.6 kB 3.3 MB/s eta 0:00:00\n",
      "Requirement already satisfied: packaging in c:\\users\\wzhon\\anaconda3\\lib\\site-packages (from geopandas) (22.0)\n",
      "Requirement already satisfied: numpy>=1.22 in c:\\users\\wzhon\\anaconda3\\lib\\site-packages (from geopandas) (1.23.5)\n",
      "Collecting pyogrio>=0.7.2\n",
      "  Downloading pyogrio-0.10.0-cp310-cp310-win_amd64.whl (16.2 MB)\n",
      "     ---------------------------------------- 16.2/16.2 MB 8.1 MB/s eta 0:00:00\n",
      "Collecting pyproj>=3.3.0\n",
      "  Downloading pyproj-3.7.1-cp310-cp310-win_amd64.whl (6.3 MB)\n",
      "     ---------------------------------------- 6.3/6.3 MB 8.2 MB/s eta 0:00:00\n",
      "Requirement already satisfied: pandas>=1.4.0 in c:\\users\\wzhon\\anaconda3\\lib\\site-packages (from geopandas) (2.2.3)\n",
      "Collecting shapely>=2.0.0\n",
      "  Downloading shapely-2.0.7-cp310-cp310-win_amd64.whl (1.4 MB)\n",
      "     ---------------------------------------- 1.4/1.4 MB 5.7 MB/s eta 0:00:00\n",
      "Requirement already satisfied: python-dateutil>=2.8.2 in c:\\users\\wzhon\\anaconda3\\lib\\site-packages (from pandas>=1.4.0->geopandas) (2.8.2)\n",
      "Requirement already satisfied: tzdata>=2022.7 in c:\\users\\wzhon\\anaconda3\\lib\\site-packages (from pandas>=1.4.0->geopandas) (2025.2)\n",
      "Requirement already satisfied: pytz>=2020.1 in c:\\users\\wzhon\\anaconda3\\lib\\site-packages (from pandas>=1.4.0->geopandas) (2022.7)\n",
      "Requirement already satisfied: certifi in c:\\users\\wzhon\\anaconda3\\lib\\site-packages (from pyogrio>=0.7.2->geopandas) (2024.2.2)\n",
      "Requirement already satisfied: six>=1.5 in c:\\users\\wzhon\\anaconda3\\lib\\site-packages (from python-dateutil>=2.8.2->pandas>=1.4.0->geopandas) (1.16.0)\n",
      "Installing collected packages: shapely, pyproj, pyogrio, geopandas\n",
      "Successfully installed geopandas-1.0.1 pyogrio-0.10.0 pyproj-3.7.1 shapely-2.0.7\n"
     ]
    }
   ],
   "source": []
  },
  {
   "cell_type": "code",
   "execution_count": null,
   "id": "7911a97c",
   "metadata": {},
   "outputs": [],
   "source": []
  }
 ],
 "metadata": {
  "kernelspec": {
   "display_name": "Python 3 (ipykernel)",
   "language": "python",
   "name": "python3"
  },
  "language_info": {
   "codemirror_mode": {
    "name": "ipython",
    "version": 3
   },
   "file_extension": ".py",
   "mimetype": "text/x-python",
   "name": "python",
   "nbconvert_exporter": "python",
   "pygments_lexer": "ipython3",
   "version": "3.10.9"
  }
 },
 "nbformat": 4,
 "nbformat_minor": 5
}
