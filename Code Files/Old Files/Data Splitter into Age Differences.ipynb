{
 "cells": [
  {
   "cell_type": "code",
   "execution_count": 2,
   "id": "a28044e9",
   "metadata": {},
   "outputs": [],
   "source": [
    "import pandas as pd\n",
    "from dateutil.relativedelta import relativedelta\n",
    "\n",
    "# Load the dataset\n",
    "df = pd.read_csv('novice.csv')\n",
    "\n",
    "# Convert birthdate columns to datetime, coercing errors to handle invalid dates\n",
    "df['Big Birthdate'] = pd.to_datetime(df['Big Birthdate'], errors='coerce')\n",
    "df['Little Birthdate'] = pd.to_datetime(df['Little Birthdate'], errors='coerce')\n",
    "\n",
    "def calculate_age_diff(row):\n",
    "    big_bday = row['Big Birthdate']\n",
    "    little_bday = row['Little Birthdate']\n",
    "    \n",
    "    # Check for missing dates\n",
    "    if pd.isnull(big_bday) or pd.isnull(little_bday):\n",
    "        return None\n",
    "    \n",
    "    # Determine the earlier and later dates\n",
    "    if big_bday > little_bday:\n",
    "        later_date, earlier_date = big_bday, little_bday\n",
    "    else:\n",
    "        later_date, earlier_date = little_bday, big_bday\n",
    "    \n",
    "    # Calculate precise age difference using relativedelta\n",
    "    delta = relativedelta(later_date, earlier_date)\n",
    "    # Convert the difference to years as a float\n",
    "    years_diff = delta.years + delta.months / 12 + delta.days / 365.25\n",
    "    return years_diff\n",
    "\n",
    "# Apply the function to calculate age differences\n",
    "df['Age Difference'] = df.apply(calculate_age_diff, axis=1)\n",
    "\n",
    "# Split the dataset into two based on the age difference threshold\n",
    "df_less_equal_10 = df[df['Age Difference'] <= 10]\n",
    "df_greater_10 = df[df['Age Difference'] > 10]\n",
    "\n",
    "# Save the results to CSV files\n",
    "df_less_equal_10.to_csv('age_diff_less_equal_10.csv', index=False)\n",
    "df_greater_10.to_csv('age_diff_greater_10.csv', index=False)"
   ]
  },
  {
   "cell_type": "code",
   "execution_count": null,
   "id": "65c29803",
   "metadata": {},
   "outputs": [],
   "source": []
  }
 ],
 "metadata": {
  "kernelspec": {
   "display_name": "Python 3 (ipykernel)",
   "language": "python",
   "name": "python3"
  },
  "language_info": {
   "codemirror_mode": {
    "name": "ipython",
    "version": 3
   },
   "file_extension": ".py",
   "mimetype": "text/x-python",
   "name": "python",
   "nbconvert_exporter": "python",
   "pygments_lexer": "ipython3",
   "version": "3.10.9"
  }
 },
 "nbformat": 4,
 "nbformat_minor": 5
}
